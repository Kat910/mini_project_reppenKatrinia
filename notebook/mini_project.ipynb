{
 "cells": [
  {
   "cell_type": "markdown",
   "id": "8ae89e41",
   "metadata": {},
   "source": [
    "## Begin to conduct a full exploratory data analysis on your chosen dataset. This means:\n",
    "Load and inspect your data\n",
    "Read in your CSV file using pd.read_csv()\n",
    "Get a sense of the structure\n",
    "Ask and investigate initial questions\n",
    "  What are the columns and what types of data do they contain?\n",
    "  Are there obvious patterns or distributions worth looking at?\n",
    "  What questions are you curious about?\n",
    "Create visualizations\n",
    "(Use Matplotlib and/or Seaborn to create 1 or 2 plots to help you understand the data)\n",
    "Document your process\n",
    "Commit your work regularly\n",
    "Your Project Folder Should Include:\n",
    "  A data/ folder with your dataset\n",
    "  A notebooks/ folder with your working .ipynb file"
   ]
  },
  {
   "cell_type": "code",
   "execution_count": 6,
   "id": "49b4b7f2",
   "metadata": {},
   "outputs": [],
   "source": [
    "import pandas as pd \n",
    "import matplotlib.pyplot as plt \n",
    "import numpy as np \n",
    "import seaborn as sns"
   ]
  },
  {
   "cell_type": "markdown",
   "id": "68e66951",
   "metadata": {},
   "source": [
    "## Load the dataset \n",
    "#  Renamed the original csv to something more easy to use"
   ]
  },
  {
   "cell_type": "code",
   "execution_count": 7,
   "id": "3c7a0829",
   "metadata": {},
   "outputs": [],
   "source": [
    "df = pd.read_csv('../data/kentucky_shelter_data.csv')"
   ]
  },
  {
   "cell_type": "markdown",
   "id": "813d424d",
   "metadata": {},
   "source": [
    "# Preview and Analyze the data structure"
   ]
  },
  {
   "cell_type": "code",
   "execution_count": 8,
   "id": "dd7427b0",
   "metadata": {},
   "outputs": [
    {
     "data": {
      "text/html": [
       "<div>\n",
       "<style scoped>\n",
       "    .dataframe tbody tr th:only-of-type {\n",
       "        vertical-align: middle;\n",
       "    }\n",
       "\n",
       "    .dataframe tbody tr th {\n",
       "        vertical-align: top;\n",
       "    }\n",
       "\n",
       "    .dataframe thead th {\n",
       "        text-align: right;\n",
       "    }\n",
       "</style>\n",
       "<table border=\"1\" class=\"dataframe\">\n",
       "  <thead>\n",
       "    <tr style=\"text-align: right;\">\n",
       "      <th></th>\n",
       "      <th>kennel</th>\n",
       "      <th>animalid</th>\n",
       "      <th>jurisdiction</th>\n",
       "      <th>intype</th>\n",
       "      <th>insubtype</th>\n",
       "      <th>indate</th>\n",
       "      <th>surreason</th>\n",
       "      <th>outtype</th>\n",
       "      <th>outsubtype</th>\n",
       "      <th>outdate</th>\n",
       "      <th>animaltype</th>\n",
       "      <th>sex</th>\n",
       "      <th>bites</th>\n",
       "      <th>petsize</th>\n",
       "      <th>color</th>\n",
       "      <th>breed</th>\n",
       "      <th>sourcezipcode</th>\n",
       "      <th>ObjectId</th>\n",
       "    </tr>\n",
       "  </thead>\n",
       "  <tbody>\n",
       "    <tr>\n",
       "      <th>0</th>\n",
       "      <td>408</td>\n",
       "      <td>A688221</td>\n",
       "      <td>40216</td>\n",
       "      <td>STRAY</td>\n",
       "      <td>OTC</td>\n",
       "      <td>2021-01-17 00:00:00</td>\n",
       "      <td>STRAY</td>\n",
       "      <td>TRANSPORT</td>\n",
       "      <td>RESCUE GRP</td>\n",
       "      <td>2021-02-06 00:00:00</td>\n",
       "      <td>DOG</td>\n",
       "      <td>M</td>\n",
       "      <td>N</td>\n",
       "      <td>PUPPY</td>\n",
       "      <td>BR BRINDLE</td>\n",
       "      <td>CHIHUAHUA SH / MIX</td>\n",
       "      <td>40218</td>\n",
       "      <td>1</td>\n",
       "    </tr>\n",
       "    <tr>\n",
       "      <th>1</th>\n",
       "      <td>ID07</td>\n",
       "      <td>A688234</td>\n",
       "      <td>40222</td>\n",
       "      <td>STRAY</td>\n",
       "      <td>OTC</td>\n",
       "      <td>2021-01-18 00:00:00</td>\n",
       "      <td>STRAY</td>\n",
       "      <td>RTO</td>\n",
       "      <td>IN FIELD</td>\n",
       "      <td>2021-01-18 00:00:00</td>\n",
       "      <td>DOG</td>\n",
       "      <td>N</td>\n",
       "      <td>N</td>\n",
       "      <td>MED</td>\n",
       "      <td>BR BRINDLE / WHITE</td>\n",
       "      <td>BOSTON TERRIER / MIX</td>\n",
       "      <td>40205</td>\n",
       "      <td>2</td>\n",
       "    </tr>\n",
       "    <tr>\n",
       "      <th>2</th>\n",
       "      <td>DW13</td>\n",
       "      <td>A688337</td>\n",
       "      <td>40118</td>\n",
       "      <td>STRAY</td>\n",
       "      <td>OTC</td>\n",
       "      <td>2021-01-21 00:00:00</td>\n",
       "      <td>STRAY</td>\n",
       "      <td>RTO</td>\n",
       "      <td>IN KENNEL</td>\n",
       "      <td>2021-01-23 00:00:00</td>\n",
       "      <td>DOG</td>\n",
       "      <td>S</td>\n",
       "      <td>N</td>\n",
       "      <td>LARGE</td>\n",
       "      <td>WHITE / BROWN</td>\n",
       "      <td>CATAHOULA / MIX</td>\n",
       "      <td>40118</td>\n",
       "      <td>3</td>\n",
       "    </tr>\n",
       "    <tr>\n",
       "      <th>3</th>\n",
       "      <td>INTAKE</td>\n",
       "      <td>A688419</td>\n",
       "      <td>40204</td>\n",
       "      <td>STRAY</td>\n",
       "      <td>OTC</td>\n",
       "      <td>2021-02-03 00:00:00</td>\n",
       "      <td>STRAY</td>\n",
       "      <td>TNR</td>\n",
       "      <td>CARETAKER</td>\n",
       "      <td>2021-02-04 00:00:00</td>\n",
       "      <td>CAT</td>\n",
       "      <td>S</td>\n",
       "      <td>N</td>\n",
       "      <td>MED</td>\n",
       "      <td>BLK TABBY</td>\n",
       "      <td>DOMESTIC SH</td>\n",
       "      <td>40204</td>\n",
       "      <td>4</td>\n",
       "    </tr>\n",
       "    <tr>\n",
       "      <th>4</th>\n",
       "      <td>INTAKE</td>\n",
       "      <td>A688478</td>\n",
       "      <td>40214</td>\n",
       "      <td>STRAY</td>\n",
       "      <td>OTC</td>\n",
       "      <td>2021-02-10 00:00:00</td>\n",
       "      <td>STRAY</td>\n",
       "      <td>TNR</td>\n",
       "      <td>CARETAKER</td>\n",
       "      <td>2021-02-11 00:00:00</td>\n",
       "      <td>CAT</td>\n",
       "      <td>N</td>\n",
       "      <td>N</td>\n",
       "      <td>MED</td>\n",
       "      <td>TORTIE</td>\n",
       "      <td>DOMESTIC SH</td>\n",
       "      <td>40210</td>\n",
       "      <td>5</td>\n",
       "    </tr>\n",
       "  </tbody>\n",
       "</table>\n",
       "</div>"
      ],
      "text/plain": [
       "   kennel animalid jurisdiction intype insubtype               indate  \\\n",
       "0     408  A688221        40216  STRAY       OTC  2021-01-17 00:00:00   \n",
       "1    ID07  A688234        40222  STRAY       OTC  2021-01-18 00:00:00   \n",
       "2    DW13  A688337        40118  STRAY       OTC  2021-01-21 00:00:00   \n",
       "3  INTAKE  A688419        40204  STRAY       OTC  2021-02-03 00:00:00   \n",
       "4  INTAKE  A688478        40214  STRAY       OTC  2021-02-10 00:00:00   \n",
       "\n",
       "  surreason    outtype  outsubtype              outdate animaltype sex bites  \\\n",
       "0     STRAY  TRANSPORT  RESCUE GRP  2021-02-06 00:00:00        DOG   M     N   \n",
       "1     STRAY        RTO    IN FIELD  2021-01-18 00:00:00        DOG   N     N   \n",
       "2     STRAY        RTO   IN KENNEL  2021-01-23 00:00:00        DOG   S     N   \n",
       "3     STRAY        TNR   CARETAKER  2021-02-04 00:00:00        CAT   S     N   \n",
       "4     STRAY        TNR   CARETAKER  2021-02-11 00:00:00        CAT   N     N   \n",
       "\n",
       "  petsize               color                 breed sourcezipcode  ObjectId  \n",
       "0   PUPPY          BR BRINDLE    CHIHUAHUA SH / MIX         40218         1  \n",
       "1     MED  BR BRINDLE / WHITE  BOSTON TERRIER / MIX         40205         2  \n",
       "2   LARGE       WHITE / BROWN       CATAHOULA / MIX         40118         3  \n",
       "3     MED           BLK TABBY           DOMESTIC SH         40204         4  \n",
       "4     MED              TORTIE           DOMESTIC SH         40210         5  "
      ]
     },
     "execution_count": 8,
     "metadata": {},
     "output_type": "execute_result"
    }
   ],
   "source": [
    "df.head()"
   ]
  },
  {
   "cell_type": "code",
   "execution_count": 9,
   "id": "b28ca917",
   "metadata": {},
   "outputs": [
    {
     "data": {
      "text/html": [
       "<div>\n",
       "<style scoped>\n",
       "    .dataframe tbody tr th:only-of-type {\n",
       "        vertical-align: middle;\n",
       "    }\n",
       "\n",
       "    .dataframe tbody tr th {\n",
       "        vertical-align: top;\n",
       "    }\n",
       "\n",
       "    .dataframe thead th {\n",
       "        text-align: right;\n",
       "    }\n",
       "</style>\n",
       "<table border=\"1\" class=\"dataframe\">\n",
       "  <thead>\n",
       "    <tr style=\"text-align: right;\">\n",
       "      <th></th>\n",
       "      <th>ObjectId</th>\n",
       "    </tr>\n",
       "  </thead>\n",
       "  <tbody>\n",
       "    <tr>\n",
       "      <th>count</th>\n",
       "      <td>60343.000000</td>\n",
       "    </tr>\n",
       "    <tr>\n",
       "      <th>mean</th>\n",
       "      <td>30172.000000</td>\n",
       "    </tr>\n",
       "    <tr>\n",
       "      <th>std</th>\n",
       "      <td>17419.667984</td>\n",
       "    </tr>\n",
       "    <tr>\n",
       "      <th>min</th>\n",
       "      <td>1.000000</td>\n",
       "    </tr>\n",
       "    <tr>\n",
       "      <th>25%</th>\n",
       "      <td>15086.500000</td>\n",
       "    </tr>\n",
       "    <tr>\n",
       "      <th>50%</th>\n",
       "      <td>30172.000000</td>\n",
       "    </tr>\n",
       "    <tr>\n",
       "      <th>75%</th>\n",
       "      <td>45257.500000</td>\n",
       "    </tr>\n",
       "    <tr>\n",
       "      <th>max</th>\n",
       "      <td>60343.000000</td>\n",
       "    </tr>\n",
       "  </tbody>\n",
       "</table>\n",
       "</div>"
      ],
      "text/plain": [
       "           ObjectId\n",
       "count  60343.000000\n",
       "mean   30172.000000\n",
       "std    17419.667984\n",
       "min        1.000000\n",
       "25%    15086.500000\n",
       "50%    30172.000000\n",
       "75%    45257.500000\n",
       "max    60343.000000"
      ]
     },
     "execution_count": 9,
     "metadata": {},
     "output_type": "execute_result"
    }
   ],
   "source": [
    "df.describe()"
   ]
  },
  {
   "cell_type": "code",
   "execution_count": 10,
   "id": "d45a7600",
   "metadata": {},
   "outputs": [
    {
     "name": "stdout",
     "output_type": "stream",
     "text": [
      "<class 'pandas.core.frame.DataFrame'>\n",
      "RangeIndex: 60343 entries, 0 to 60342\n",
      "Data columns (total 18 columns):\n",
      " #   Column         Non-Null Count  Dtype \n",
      "---  ------         --------------  ----- \n",
      " 0   kennel         60343 non-null  object\n",
      " 1   animalid       60343 non-null  object\n",
      " 2   jurisdiction   47038 non-null  object\n",
      " 3   intype         60343 non-null  object\n",
      " 4   insubtype      60216 non-null  object\n",
      " 5   indate         60343 non-null  object\n",
      " 6   surreason      47038 non-null  object\n",
      " 7   outtype        46755 non-null  object\n",
      " 8   outsubtype     37967 non-null  object\n",
      " 9   outdate        46789 non-null  object\n",
      " 10  animaltype     60343 non-null  object\n",
      " 11  sex            59318 non-null  object\n",
      " 12  bites          47053 non-null  object\n",
      " 13  petsize        57919 non-null  object\n",
      " 14  color          60342 non-null  object\n",
      " 15  breed          60267 non-null  object\n",
      " 16  sourcezipcode  50868 non-null  object\n",
      " 17  ObjectId       60343 non-null  int64 \n",
      "dtypes: int64(1), object(17)\n",
      "memory usage: 8.3+ MB\n"
     ]
    }
   ],
   "source": [
    "df.info()"
   ]
  },
  {
   "cell_type": "code",
   "execution_count": 11,
   "id": "4421d7b2",
   "metadata": {},
   "outputs": [
    {
     "data": {
      "text/plain": [
       "Index(['kennel', 'animalid', 'jurisdiction', 'intype', 'insubtype', 'indate',\n",
       "       'surreason', 'outtype', 'outsubtype', 'outdate', 'animaltype', 'sex',\n",
       "       'bites', 'petsize', 'color', 'breed', 'sourcezipcode', 'ObjectId'],\n",
       "      dtype='object')"
      ]
     },
     "execution_count": 11,
     "metadata": {},
     "output_type": "execute_result"
    }
   ],
   "source": [
    "df.columns"
   ]
  },
  {
   "cell_type": "code",
   "execution_count": 12,
   "id": "e3214143",
   "metadata": {},
   "outputs": [
    {
     "data": {
      "text/plain": [
       "(60343, 18)"
      ]
     },
     "execution_count": 12,
     "metadata": {},
     "output_type": "execute_result"
    }
   ],
   "source": [
    "df.shape"
   ]
  },
  {
   "cell_type": "code",
   "execution_count": 13,
   "id": "16b9b6ce",
   "metadata": {},
   "outputs": [
    {
     "data": {
      "text/plain": [
       "kennel           object\n",
       "animalid         object\n",
       "jurisdiction     object\n",
       "intype           object\n",
       "insubtype        object\n",
       "indate           object\n",
       "surreason        object\n",
       "outtype          object\n",
       "outsubtype       object\n",
       "outdate          object\n",
       "animaltype       object\n",
       "sex              object\n",
       "bites            object\n",
       "petsize          object\n",
       "color            object\n",
       "breed            object\n",
       "sourcezipcode    object\n",
       "ObjectId          int64\n",
       "dtype: object"
      ]
     },
     "execution_count": 13,
     "metadata": {},
     "output_type": "execute_result"
    }
   ],
   "source": [
    "df.dtypes"
   ]
  },
  {
   "cell_type": "markdown",
   "id": "f8ea2415",
   "metadata": {},
   "source": [
    "# Data Clean Up\n",
    "# Rename Columns\n",
    "# Check for Missing Data\n",
    "# Count of Missing Data\n",
    "# Drop columns not needed for analysis\n",
    "# Drop rows missing critical info\n",
    "# Check for duplicates\n",
    "# Drop Duplicates\n",
    "# Convert date columns to datetime format"
   ]
  },
  {
   "cell_type": "code",
   "execution_count": 14,
   "id": "1ec7743f",
   "metadata": {},
   "outputs": [],
   "source": [
    "# Assign a new list of column names\n",
    "df.columns = [\"kennelId\", \"animalId\", \"jurisdiction\", \"intakeReason\", \"intakeSubtype\", \"intakeDate\", \"surrenderReason\", \"outcome\", \"outcomeSubType\", \"outcomeDate\", \"animalType\", \"sex\", \"bites\", \"petSize\", \"color\", \"breed\", \"zipCode\", \"objectId\"]"
   ]
  },
  {
   "cell_type": "code",
   "execution_count": 15,
   "id": "1eee7fd0",
   "metadata": {},
   "outputs": [
    {
     "data": {
      "text/html": [
       "<div>\n",
       "<style scoped>\n",
       "    .dataframe tbody tr th:only-of-type {\n",
       "        vertical-align: middle;\n",
       "    }\n",
       "\n",
       "    .dataframe tbody tr th {\n",
       "        vertical-align: top;\n",
       "    }\n",
       "\n",
       "    .dataframe thead th {\n",
       "        text-align: right;\n",
       "    }\n",
       "</style>\n",
       "<table border=\"1\" class=\"dataframe\">\n",
       "  <thead>\n",
       "    <tr style=\"text-align: right;\">\n",
       "      <th></th>\n",
       "      <th>kennelId</th>\n",
       "      <th>animalId</th>\n",
       "      <th>jurisdiction</th>\n",
       "      <th>intakeReason</th>\n",
       "      <th>intakeSubtype</th>\n",
       "      <th>intakeDate</th>\n",
       "      <th>surrenderReason</th>\n",
       "      <th>outcome</th>\n",
       "      <th>outcomeSubType</th>\n",
       "      <th>outcomeDate</th>\n",
       "      <th>animalType</th>\n",
       "      <th>sex</th>\n",
       "      <th>bites</th>\n",
       "      <th>petSize</th>\n",
       "      <th>color</th>\n",
       "      <th>breed</th>\n",
       "      <th>zipCode</th>\n",
       "      <th>objectId</th>\n",
       "    </tr>\n",
       "  </thead>\n",
       "  <tbody>\n",
       "    <tr>\n",
       "      <th>0</th>\n",
       "      <td>False</td>\n",
       "      <td>False</td>\n",
       "      <td>False</td>\n",
       "      <td>False</td>\n",
       "      <td>False</td>\n",
       "      <td>False</td>\n",
       "      <td>False</td>\n",
       "      <td>False</td>\n",
       "      <td>False</td>\n",
       "      <td>False</td>\n",
       "      <td>False</td>\n",
       "      <td>False</td>\n",
       "      <td>False</td>\n",
       "      <td>False</td>\n",
       "      <td>False</td>\n",
       "      <td>False</td>\n",
       "      <td>False</td>\n",
       "      <td>False</td>\n",
       "    </tr>\n",
       "    <tr>\n",
       "      <th>1</th>\n",
       "      <td>False</td>\n",
       "      <td>False</td>\n",
       "      <td>False</td>\n",
       "      <td>False</td>\n",
       "      <td>False</td>\n",
       "      <td>False</td>\n",
       "      <td>False</td>\n",
       "      <td>False</td>\n",
       "      <td>False</td>\n",
       "      <td>False</td>\n",
       "      <td>False</td>\n",
       "      <td>False</td>\n",
       "      <td>False</td>\n",
       "      <td>False</td>\n",
       "      <td>False</td>\n",
       "      <td>False</td>\n",
       "      <td>False</td>\n",
       "      <td>False</td>\n",
       "    </tr>\n",
       "    <tr>\n",
       "      <th>2</th>\n",
       "      <td>False</td>\n",
       "      <td>False</td>\n",
       "      <td>False</td>\n",
       "      <td>False</td>\n",
       "      <td>False</td>\n",
       "      <td>False</td>\n",
       "      <td>False</td>\n",
       "      <td>False</td>\n",
       "      <td>False</td>\n",
       "      <td>False</td>\n",
       "      <td>False</td>\n",
       "      <td>False</td>\n",
       "      <td>False</td>\n",
       "      <td>False</td>\n",
       "      <td>False</td>\n",
       "      <td>False</td>\n",
       "      <td>False</td>\n",
       "      <td>False</td>\n",
       "    </tr>\n",
       "    <tr>\n",
       "      <th>3</th>\n",
       "      <td>False</td>\n",
       "      <td>False</td>\n",
       "      <td>False</td>\n",
       "      <td>False</td>\n",
       "      <td>False</td>\n",
       "      <td>False</td>\n",
       "      <td>False</td>\n",
       "      <td>False</td>\n",
       "      <td>False</td>\n",
       "      <td>False</td>\n",
       "      <td>False</td>\n",
       "      <td>False</td>\n",
       "      <td>False</td>\n",
       "      <td>False</td>\n",
       "      <td>False</td>\n",
       "      <td>False</td>\n",
       "      <td>False</td>\n",
       "      <td>False</td>\n",
       "    </tr>\n",
       "    <tr>\n",
       "      <th>4</th>\n",
       "      <td>False</td>\n",
       "      <td>False</td>\n",
       "      <td>False</td>\n",
       "      <td>False</td>\n",
       "      <td>False</td>\n",
       "      <td>False</td>\n",
       "      <td>False</td>\n",
       "      <td>False</td>\n",
       "      <td>False</td>\n",
       "      <td>False</td>\n",
       "      <td>False</td>\n",
       "      <td>False</td>\n",
       "      <td>False</td>\n",
       "      <td>False</td>\n",
       "      <td>False</td>\n",
       "      <td>False</td>\n",
       "      <td>False</td>\n",
       "      <td>False</td>\n",
       "    </tr>\n",
       "    <tr>\n",
       "      <th>...</th>\n",
       "      <td>...</td>\n",
       "      <td>...</td>\n",
       "      <td>...</td>\n",
       "      <td>...</td>\n",
       "      <td>...</td>\n",
       "      <td>...</td>\n",
       "      <td>...</td>\n",
       "      <td>...</td>\n",
       "      <td>...</td>\n",
       "      <td>...</td>\n",
       "      <td>...</td>\n",
       "      <td>...</td>\n",
       "      <td>...</td>\n",
       "      <td>...</td>\n",
       "      <td>...</td>\n",
       "      <td>...</td>\n",
       "      <td>...</td>\n",
       "      <td>...</td>\n",
       "    </tr>\n",
       "    <tr>\n",
       "      <th>60338</th>\n",
       "      <td>False</td>\n",
       "      <td>False</td>\n",
       "      <td>False</td>\n",
       "      <td>False</td>\n",
       "      <td>False</td>\n",
       "      <td>False</td>\n",
       "      <td>False</td>\n",
       "      <td>False</td>\n",
       "      <td>False</td>\n",
       "      <td>False</td>\n",
       "      <td>False</td>\n",
       "      <td>False</td>\n",
       "      <td>False</td>\n",
       "      <td>False</td>\n",
       "      <td>False</td>\n",
       "      <td>False</td>\n",
       "      <td>False</td>\n",
       "      <td>False</td>\n",
       "    </tr>\n",
       "    <tr>\n",
       "      <th>60339</th>\n",
       "      <td>False</td>\n",
       "      <td>False</td>\n",
       "      <td>False</td>\n",
       "      <td>False</td>\n",
       "      <td>False</td>\n",
       "      <td>False</td>\n",
       "      <td>False</td>\n",
       "      <td>False</td>\n",
       "      <td>False</td>\n",
       "      <td>False</td>\n",
       "      <td>False</td>\n",
       "      <td>False</td>\n",
       "      <td>False</td>\n",
       "      <td>False</td>\n",
       "      <td>False</td>\n",
       "      <td>False</td>\n",
       "      <td>False</td>\n",
       "      <td>False</td>\n",
       "    </tr>\n",
       "    <tr>\n",
       "      <th>60340</th>\n",
       "      <td>False</td>\n",
       "      <td>False</td>\n",
       "      <td>True</td>\n",
       "      <td>False</td>\n",
       "      <td>False</td>\n",
       "      <td>False</td>\n",
       "      <td>True</td>\n",
       "      <td>True</td>\n",
       "      <td>True</td>\n",
       "      <td>True</td>\n",
       "      <td>False</td>\n",
       "      <td>False</td>\n",
       "      <td>True</td>\n",
       "      <td>False</td>\n",
       "      <td>False</td>\n",
       "      <td>False</td>\n",
       "      <td>True</td>\n",
       "      <td>False</td>\n",
       "    </tr>\n",
       "    <tr>\n",
       "      <th>60341</th>\n",
       "      <td>False</td>\n",
       "      <td>False</td>\n",
       "      <td>False</td>\n",
       "      <td>False</td>\n",
       "      <td>False</td>\n",
       "      <td>False</td>\n",
       "      <td>False</td>\n",
       "      <td>False</td>\n",
       "      <td>True</td>\n",
       "      <td>False</td>\n",
       "      <td>False</td>\n",
       "      <td>False</td>\n",
       "      <td>False</td>\n",
       "      <td>False</td>\n",
       "      <td>False</td>\n",
       "      <td>False</td>\n",
       "      <td>False</td>\n",
       "      <td>False</td>\n",
       "    </tr>\n",
       "    <tr>\n",
       "      <th>60342</th>\n",
       "      <td>False</td>\n",
       "      <td>False</td>\n",
       "      <td>False</td>\n",
       "      <td>False</td>\n",
       "      <td>False</td>\n",
       "      <td>False</td>\n",
       "      <td>False</td>\n",
       "      <td>False</td>\n",
       "      <td>False</td>\n",
       "      <td>False</td>\n",
       "      <td>False</td>\n",
       "      <td>False</td>\n",
       "      <td>False</td>\n",
       "      <td>False</td>\n",
       "      <td>False</td>\n",
       "      <td>False</td>\n",
       "      <td>False</td>\n",
       "      <td>False</td>\n",
       "    </tr>\n",
       "  </tbody>\n",
       "</table>\n",
       "<p>60343 rows × 18 columns</p>\n",
       "</div>"
      ],
      "text/plain": [
       "       kennelId  animalId  jurisdiction  intakeReason  intakeSubtype  \\\n",
       "0         False     False         False         False          False   \n",
       "1         False     False         False         False          False   \n",
       "2         False     False         False         False          False   \n",
       "3         False     False         False         False          False   \n",
       "4         False     False         False         False          False   \n",
       "...         ...       ...           ...           ...            ...   \n",
       "60338     False     False         False         False          False   \n",
       "60339     False     False         False         False          False   \n",
       "60340     False     False          True         False          False   \n",
       "60341     False     False         False         False          False   \n",
       "60342     False     False         False         False          False   \n",
       "\n",
       "       intakeDate  surrenderReason  outcome  outcomeSubType  outcomeDate  \\\n",
       "0           False            False    False           False        False   \n",
       "1           False            False    False           False        False   \n",
       "2           False            False    False           False        False   \n",
       "3           False            False    False           False        False   \n",
       "4           False            False    False           False        False   \n",
       "...           ...              ...      ...             ...          ...   \n",
       "60338       False            False    False           False        False   \n",
       "60339       False            False    False           False        False   \n",
       "60340       False             True     True            True         True   \n",
       "60341       False            False    False            True        False   \n",
       "60342       False            False    False           False        False   \n",
       "\n",
       "       animalType    sex  bites  petSize  color  breed  zipCode  objectId  \n",
       "0           False  False  False    False  False  False    False     False  \n",
       "1           False  False  False    False  False  False    False     False  \n",
       "2           False  False  False    False  False  False    False     False  \n",
       "3           False  False  False    False  False  False    False     False  \n",
       "4           False  False  False    False  False  False    False     False  \n",
       "...           ...    ...    ...      ...    ...    ...      ...       ...  \n",
       "60338       False  False  False    False  False  False    False     False  \n",
       "60339       False  False  False    False  False  False    False     False  \n",
       "60340       False  False   True    False  False  False     True     False  \n",
       "60341       False  False  False    False  False  False    False     False  \n",
       "60342       False  False  False    False  False  False    False     False  \n",
       "\n",
       "[60343 rows x 18 columns]"
      ]
     },
     "execution_count": 15,
     "metadata": {},
     "output_type": "execute_result"
    }
   ],
   "source": [
    "# check for missing data\n",
    "df.isna()"
   ]
  },
  {
   "cell_type": "code",
   "execution_count": 16,
   "id": "2d847fdb",
   "metadata": {},
   "outputs": [
    {
     "data": {
      "text/plain": [
       "kennelId               0\n",
       "animalId               0\n",
       "jurisdiction       13305\n",
       "intakeReason           0\n",
       "intakeSubtype        127\n",
       "intakeDate             0\n",
       "surrenderReason    13305\n",
       "outcome            13588\n",
       "outcomeSubType     22376\n",
       "outcomeDate        13554\n",
       "animalType             0\n",
       "sex                 1025\n",
       "bites              13290\n",
       "petSize             2424\n",
       "color                  1\n",
       "breed                 76\n",
       "zipCode             9475\n",
       "objectId               0\n",
       "dtype: int64"
      ]
     },
     "execution_count": 16,
     "metadata": {},
     "output_type": "execute_result"
    }
   ],
   "source": [
    "# count of missing data\n",
    "df.isna().sum()"
   ]
  },
  {
   "cell_type": "code",
   "execution_count": 18,
   "id": "2f58e82c",
   "metadata": {},
   "outputs": [
    {
     "data": {
      "text/plain": [
       "0        False\n",
       "1        False\n",
       "2        False\n",
       "3        False\n",
       "4        False\n",
       "         ...  \n",
       "60338    False\n",
       "60339    False\n",
       "60340    False\n",
       "60341    False\n",
       "60342    False\n",
       "Length: 60343, dtype: bool"
      ]
     },
     "execution_count": 18,
     "metadata": {},
     "output_type": "execute_result"
    }
   ],
   "source": [
    "# check for duplicates\n",
    "df.duplicated(keep = False)"
   ]
  },
  {
   "cell_type": "code",
   "execution_count": 19,
   "id": "5a8ec9f6",
   "metadata": {},
   "outputs": [
    {
     "data": {
      "text/plain": [
       "np.int64(0)"
      ]
     },
     "execution_count": 19,
     "metadata": {},
     "output_type": "execute_result"
    }
   ],
   "source": [
    "df.duplicated(keep = False).sum()"
   ]
  },
  {
   "cell_type": "code",
   "execution_count": 22,
   "id": "4e7c8c9a",
   "metadata": {},
   "outputs": [
    {
     "name": "stdout",
     "output_type": "stream",
     "text": [
      "0       2021-01-17\n",
      "1       2021-01-18\n",
      "2       2021-01-21\n",
      "3       2021-02-03\n",
      "4       2021-02-10\n",
      "           ...    \n",
      "60338   2023-08-11\n",
      "60339   2023-08-15\n",
      "60340   2023-08-18\n",
      "60341   2023-08-19\n",
      "60342   2024-06-28\n",
      "Name: indate, Length: 60343, dtype: datetime64[ns] 0       2021-02-06\n",
      "1       2021-01-18\n",
      "2       2021-01-23\n",
      "3       2021-02-04\n",
      "4       2021-02-11\n",
      "           ...    \n",
      "60338   2023-10-03\n",
      "60339   2023-09-18\n",
      "60340          NaT\n",
      "60341   2023-08-29\n",
      "60342   2024-07-03\n",
      "Name: outdate, Length: 60343, dtype: datetime64[ns]\n"
     ]
    }
   ],
   "source": [
    "# Convert date columns to datetime format\n",
    "df['indate'] = pd.to_datetime(df['intakeDate'], errors='coerce')\n",
    "\n",
    "df['outdate'] = pd.to_datetime(df['outcomeDate'], errors='coerce')\n",
    "\n",
    "print(df.indate, df.outdate)"
   ]
  },
  {
   "cell_type": "code",
   "execution_count": 23,
   "id": "e13b811a",
   "metadata": {},
   "outputs": [],
   "source": [
    "# Drop columns not needed for analysis\n",
    "df = df.drop(columns=[\"kennelId\", \"jurisdiction\", \"zipCode\", \"objectId\"])"
   ]
  },
  {
   "cell_type": "code",
   "execution_count": 24,
   "id": "8a53cb50",
   "metadata": {},
   "outputs": [
    {
     "data": {
      "text/plain": [
       "Index(['animalId', 'intakeReason', 'intakeSubtype', 'intakeDate',\n",
       "       'surrenderReason', 'outcome', 'outcomeSubType', 'outcomeDate',\n",
       "       'animalType', 'sex', 'bites', 'petSize', 'color', 'breed', 'indate',\n",
       "       'outdate'],\n",
       "      dtype='object')"
      ]
     },
     "execution_count": 24,
     "metadata": {},
     "output_type": "execute_result"
    }
   ],
   "source": [
    "# validate columns were droppped\n",
    "df.columns"
   ]
  },
  {
   "cell_type": "code",
   "execution_count": 31,
   "id": "21b807d1",
   "metadata": {},
   "outputs": [],
   "source": [
    "# Fill in null data for analysis fields\n",
    "# df[\"intakeSubtype\"] = df[\"intakeSubtype\"].fillna(\"unknown\")\n",
    "# df[\"surrenderReason\"] = df[\"surrenderReason\"].fillna(\"none\")\n",
    "\n",
    "df = df.fillna({\n",
    "    \"intakeSubtype\": \"unknown\",\n",
    "    \"surrenderReason\": \"none\",\n",
    "    \"sex\": \"unspecified\",\n",
    "    \"bites\": \"unspecified\",\n",
    "    \"petSize\": \"unspecified\",\n",
    "    \"color\": \"unspecified\",\n",
    "    \"breed\": \"unknown\"\n",
    "})\n"
   ]
  },
  {
   "cell_type": "code",
   "execution_count": 32,
   "id": "c737ba76",
   "metadata": {},
   "outputs": [
    {
     "data": {
      "text/plain": [
       "animalId               0\n",
       "intakeReason           0\n",
       "intakeSubtype          0\n",
       "intakeDate             0\n",
       "surrenderReason        0\n",
       "outcome            13588\n",
       "outcomeSubType     22376\n",
       "outcomeDate        13554\n",
       "animalType             0\n",
       "sex                    0\n",
       "bites                  0\n",
       "petSize                0\n",
       "color                  0\n",
       "breed                  0\n",
       "indate                 0\n",
       "outdate            13554\n",
       "dtype: int64"
      ]
     },
     "execution_count": 32,
     "metadata": {},
     "output_type": "execute_result"
    }
   ],
   "source": [
    "# count of missing data again before dropping\n",
    "df.isna().sum()"
   ]
  },
  {
   "cell_type": "markdown",
   "id": "ddaf52bc",
   "metadata": {},
   "source": [
    "# Analysis I would like to accomplish with the data\n",
    "# 1. Most common outcome type by animal type\n",
    "# 2. Adoption rates by animal type\n",
    "# 3. Intake types count\n",
    "# 4. Age group effect on outcomes\n",
    "# 5. Age by Outcome Type by Animal Type\n",
    "# 6. Rates of adoption by day of week"
   ]
  },
  {
   "cell_type": "markdown",
   "id": "b51ecc35",
   "metadata": {},
   "source": [
    "# Most common outcome type by animal type\n",
    "I wanted to determine the most common outcome type overall. "
   ]
  },
  {
   "cell_type": "code",
   "execution_count": 44,
   "id": "d6df3c76",
   "metadata": {},
   "outputs": [
    {
     "data": {
      "image/png": "[encoded data removed]",
      "text/plain": [
       "<Figure size 1200x800 with 1 Axes>"
      ]
     },
     "metadata": {},
     "output_type": "display_data"
    }
   ],
   "source": [
    "plt.figure(figsize=(12,8))\n",
    "df['outcome'].value_counts().plot(kind='bar', color='skyblue')\n",
    "plt.title('Most Common Outcome Types')\n",
    "plt.xlabel('Outcome Type')\n",
    "plt.ylabel('Count')\n",
    "\n",
    "ax = plt.gca()\n",
    "ax.spines['top'].set_visible(False)\n",
    "ax.spines['right'].set_visible(False)\n",
    "\n",
    "plt.xticks(rotation = 45, ha = \"right\")\n",
    "plt.tight_layout()\n",
    "plt.show()"
   ]
  },
  {
   "cell_type": "markdown",
   "id": "9feb2b03",
   "metadata": {},
   "source": [
    "# 2. Adoption rates by animal type\n",
    "\n",
    "With adoption being the most common outcome, I now wanted to see the split between cats and dogs."
   ]
  },
  {
   "cell_type": "code",
   "execution_count": 36,
   "id": "b1a8d435",
   "metadata": {},
   "outputs": [
    {
     "data": {
      "image/png": "[encoded data removed]",
      "text/plain": [
       "<Figure size 1200x800 with 1 Axes>"
      ]
     },
     "metadata": {},
     "output_type": "display_data"
    }
   ],
   "source": [
    "adopted = df[df['outcome'].str.lower() == 'adoption']\n",
    "plt.figure(figsize=(12,8))\n",
    "adopted['animalType'].value_counts().plot(kind='pie', autopct='%1.1f%%', startangle=90)\n",
    "plt.title('Adoption Rates by Animal Type')\n",
    "plt.ylabel('')\n",
    "plt.tight_layout()\n",
    "plt.show()"
   ]
  },
  {
   "cell_type": "markdown",
   "id": "39d66ab4",
   "metadata": {},
   "source": [
    "# 3. Intake types count\n",
    "I wanted to see the main reasons for animal surrender."
   ]
  },
  {
   "cell_type": "code",
   "execution_count": 43,
   "id": "695cad6a",
   "metadata": {},
   "outputs": [
    {
     "data": {
      "image/png": "[encoded data removed]",
      "text/plain": [
       "<Figure size 1200x800 with 1 Axes>"
      ]
     },
     "metadata": {},
     "output_type": "display_data"
    }
   ],
   "source": [
    "plt.figure(figsize=(12,8))\n",
    "df['intakeReason'].value_counts().plot(kind='bar', color='skyblue')\n",
    "plt.title('Intake Types Distribution')\n",
    "plt.xlabel('Intake Type')\n",
    "plt.ylabel('Count')\n",
    "\n",
    "ax = plt.gca()\n",
    "ax.spines['top'].set_visible(False)\n",
    "ax.spines['right'].set_visible(False)\n",
    "\n",
    "plt.xticks(rotation = 45, ha = \"right\")\n",
    "plt.tight_layout()\n",
    "plt.show()"
   ]
  }
 ],
 "metadata": {
  "kernelspec": {
   "display_name": "Python 3",
   "language": "python",
   "name": "python3"
  },
  "language_info": {
   "codemirror_mode": {
    "name": "ipython",
    "version": 3
   },
   "file_extension": ".py",
   "mimetype": "text/x-python",
   "name": "python",
   "nbconvert_exporter": "python",
   "pygments_lexer": "ipython3",
   "version": "3.13.7"
  }
 },
 "nbformat": 4,
 "nbformat_minor": 5
}
