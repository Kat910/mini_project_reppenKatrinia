{
 "cells": [
  {
   "cell_type": "markdown",
   "id": "8ae89e41",
   "metadata": {},
   "source": [
    "## Begin to conduct a full exploratory data analysis on your chosen dataset. This means:\n",
    "Load and inspect your data\n",
    "Read in your CSV file using pd.read_csv()\n",
    "Get a sense of the structure\n",
    "Ask and investigate initial questions\n",
    "  What are the columns and what types of data do they contain?\n",
    "  Are there obvious patterns or distributions worth looking at?\n",
    "  What questions are you curious about?\n",
    "Create visualizations\n",
    "(Use Matplotlib and/or Seaborn to create 1 or 2 plots to help you understand the data)\n",
    "Document your process\n",
    "Commit your work regularly\n",
    "Your Project Folder Should Include:\n",
    "  A data/ folder with your dataset\n",
    "  A notebooks/ folder with your working .ipynb file"
   ]
  },
  {
   "cell_type": "code",
   "execution_count": 1,
   "id": "49b4b7f2",
   "metadata": {},
   "outputs": [],
   "source": [
    "import pandas as pd \n",
    "import matplotlib.pyplot as plt \n",
    "import numpy as np \n",
    "import seaborn as sns"
   ]
  },
  {
   "cell_type": "markdown",
   "id": "68e66951",
   "metadata": {},
   "source": [
    "## Load the dataset \n",
    "#  Renamed the original csv to something more easy to use"
   ]
  },
  {
   "cell_type": "code",
   "execution_count": 2,
   "id": "3c7a0829",
   "metadata": {},
   "outputs": [],
   "source": [
    "df = pd.read_csv('../data/kentucky_shelter_data.csv')"
   ]
  },
  {
   "cell_type": "markdown",
   "id": "813d424d",
   "metadata": {},
   "source": [
    "# Preview and Analyze the data structure"
   ]
  },
  {
   "cell_type": "code",
   "execution_count": 3,
   "id": "dd7427b0",
   "metadata": {},
   "outputs": [
    {
     "data": {
      "text/html": [
       "<div>\n",
       "<style scoped>\n",
       "    .dataframe tbody tr th:only-of-type {\n",
       "        vertical-align: middle;\n",
       "    }\n",
       "\n",
       "    .dataframe tbody tr th {\n",
       "        vertical-align: top;\n",
       "    }\n",
       "\n",
       "    .dataframe thead th {\n",
       "        text-align: right;\n",
       "    }\n",
       "</style>\n",
       "<table border=\"1\" class=\"dataframe\">\n",
       "  <thead>\n",
       "    <tr style=\"text-align: right;\">\n",
       "      <th></th>\n",
       "      <th>kennel</th>\n",
       "      <th>animalid</th>\n",
       "      <th>jurisdiction</th>\n",
       "      <th>intype</th>\n",
       "      <th>insubtype</th>\n",
       "      <th>indate</th>\n",
       "      <th>surreason</th>\n",
       "      <th>outtype</th>\n",
       "      <th>outsubtype</th>\n",
       "      <th>outdate</th>\n",
       "      <th>animaltype</th>\n",
       "      <th>sex</th>\n",
       "      <th>bites</th>\n",
       "      <th>petsize</th>\n",
       "      <th>color</th>\n",
       "      <th>breed</th>\n",
       "      <th>sourcezipcode</th>\n",
       "      <th>ObjectId</th>\n",
       "    </tr>\n",
       "  </thead>\n",
       "  <tbody>\n",
       "    <tr>\n",
       "      <th>0</th>\n",
       "      <td>408</td>\n",
       "      <td>A688221</td>\n",
       "      <td>40216</td>\n",
       "      <td>STRAY</td>\n",
       "      <td>OTC</td>\n",
       "      <td>2021-01-17 00:00:00</td>\n",
       "      <td>STRAY</td>\n",
       "      <td>TRANSPORT</td>\n",
       "      <td>RESCUE GRP</td>\n",
       "      <td>2021-02-06 00:00:00</td>\n",
       "      <td>DOG</td>\n",
       "      <td>M</td>\n",
       "      <td>N</td>\n",
       "      <td>PUPPY</td>\n",
       "      <td>BR BRINDLE</td>\n",
       "      <td>CHIHUAHUA SH / MIX</td>\n",
       "      <td>40218</td>\n",
       "      <td>1</td>\n",
       "    </tr>\n",
       "    <tr>\n",
       "      <th>1</th>\n",
       "      <td>ID07</td>\n",
       "      <td>A688234</td>\n",
       "      <td>40222</td>\n",
       "      <td>STRAY</td>\n",
       "      <td>OTC</td>\n",
       "      <td>2021-01-18 00:00:00</td>\n",
       "      <td>STRAY</td>\n",
       "      <td>RTO</td>\n",
       "      <td>IN FIELD</td>\n",
       "      <td>2021-01-18 00:00:00</td>\n",
       "      <td>DOG</td>\n",
       "      <td>N</td>\n",
       "      <td>N</td>\n",
       "      <td>MED</td>\n",
       "      <td>BR BRINDLE / WHITE</td>\n",
       "      <td>BOSTON TERRIER / MIX</td>\n",
       "      <td>40205</td>\n",
       "      <td>2</td>\n",
       "    </tr>\n",
       "    <tr>\n",
       "      <th>2</th>\n",
       "      <td>DW13</td>\n",
       "      <td>A688337</td>\n",
       "      <td>40118</td>\n",
       "      <td>STRAY</td>\n",
       "      <td>OTC</td>\n",
       "      <td>2021-01-21 00:00:00</td>\n",
       "      <td>STRAY</td>\n",
       "      <td>RTO</td>\n",
       "      <td>IN KENNEL</td>\n",
       "      <td>2021-01-23 00:00:00</td>\n",
       "      <td>DOG</td>\n",
       "      <td>S</td>\n",
       "      <td>N</td>\n",
       "      <td>LARGE</td>\n",
       "      <td>WHITE / BROWN</td>\n",
       "      <td>CATAHOULA / MIX</td>\n",
       "      <td>40118</td>\n",
       "      <td>3</td>\n",
       "    </tr>\n",
       "    <tr>\n",
       "      <th>3</th>\n",
       "      <td>INTAKE</td>\n",
       "      <td>A688419</td>\n",
       "      <td>40204</td>\n",
       "      <td>STRAY</td>\n",
       "      <td>OTC</td>\n",
       "      <td>2021-02-03 00:00:00</td>\n",
       "      <td>STRAY</td>\n",
       "      <td>TNR</td>\n",
       "      <td>CARETAKER</td>\n",
       "      <td>2021-02-04 00:00:00</td>\n",
       "      <td>CAT</td>\n",
       "      <td>S</td>\n",
       "      <td>N</td>\n",
       "      <td>MED</td>\n",
       "      <td>BLK TABBY</td>\n",
       "      <td>DOMESTIC SH</td>\n",
       "      <td>40204</td>\n",
       "      <td>4</td>\n",
       "    </tr>\n",
       "    <tr>\n",
       "      <th>4</th>\n",
       "      <td>INTAKE</td>\n",
       "      <td>A688478</td>\n",
       "      <td>40214</td>\n",
       "      <td>STRAY</td>\n",
       "      <td>OTC</td>\n",
       "      <td>2021-02-10 00:00:00</td>\n",
       "      <td>STRAY</td>\n",
       "      <td>TNR</td>\n",
       "      <td>CARETAKER</td>\n",
       "      <td>2021-02-11 00:00:00</td>\n",
       "      <td>CAT</td>\n",
       "      <td>N</td>\n",
       "      <td>N</td>\n",
       "      <td>MED</td>\n",
       "      <td>TORTIE</td>\n",
       "      <td>DOMESTIC SH</td>\n",
       "      <td>40210</td>\n",
       "      <td>5</td>\n",
       "    </tr>\n",
       "  </tbody>\n",
       "</table>\n",
       "</div>"
      ],
      "text/plain": [
       "   kennel animalid jurisdiction intype insubtype               indate  \\\n",
       "0     408  A688221        40216  STRAY       OTC  2021-01-17 00:00:00   \n",
       "1    ID07  A688234        40222  STRAY       OTC  2021-01-18 00:00:00   \n",
       "2    DW13  A688337        40118  STRAY       OTC  2021-01-21 00:00:00   \n",
       "3  INTAKE  A688419        40204  STRAY       OTC  2021-02-03 00:00:00   \n",
       "4  INTAKE  A688478        40214  STRAY       OTC  2021-02-10 00:00:00   \n",
       "\n",
       "  surreason    outtype  outsubtype              outdate animaltype sex bites  \\\n",
       "0     STRAY  TRANSPORT  RESCUE GRP  2021-02-06 00:00:00        DOG   M     N   \n",
       "1     STRAY        RTO    IN FIELD  2021-01-18 00:00:00        DOG   N     N   \n",
       "2     STRAY        RTO   IN KENNEL  2021-01-23 00:00:00        DOG   S     N   \n",
       "3     STRAY        TNR   CARETAKER  2021-02-04 00:00:00        CAT   S     N   \n",
       "4     STRAY        TNR   CARETAKER  2021-02-11 00:00:00        CAT   N     N   \n",
       "\n",
       "  petsize               color                 breed sourcezipcode  ObjectId  \n",
       "0   PUPPY          BR BRINDLE    CHIHUAHUA SH / MIX         40218         1  \n",
       "1     MED  BR BRINDLE / WHITE  BOSTON TERRIER / MIX         40205         2  \n",
       "2   LARGE       WHITE / BROWN       CATAHOULA / MIX         40118         3  \n",
       "3     MED           BLK TABBY           DOMESTIC SH         40204         4  \n",
       "4     MED              TORTIE           DOMESTIC SH         40210         5  "
      ]
     },
     "execution_count": 3,
     "metadata": {},
     "output_type": "execute_result"
    }
   ],
   "source": [
    "df.head()"
   ]
  },
  {
   "cell_type": "code",
   "execution_count": 4,
   "id": "b28ca917",
   "metadata": {},
   "outputs": [
    {
     "data": {
      "text/html": [
       "<div>\n",
       "<style scoped>\n",
       "    .dataframe tbody tr th:only-of-type {\n",
       "        vertical-align: middle;\n",
       "    }\n",
       "\n",
       "    .dataframe tbody tr th {\n",
       "        vertical-align: top;\n",
       "    }\n",
       "\n",
       "    .dataframe thead th {\n",
       "        text-align: right;\n",
       "    }\n",
       "</style>\n",
       "<table border=\"1\" class=\"dataframe\">\n",
       "  <thead>\n",
       "    <tr style=\"text-align: right;\">\n",
       "      <th></th>\n",
       "      <th>ObjectId</th>\n",
       "    </tr>\n",
       "  </thead>\n",
       "  <tbody>\n",
       "    <tr>\n",
       "      <th>count</th>\n",
       "      <td>60343.000000</td>\n",
       "    </tr>\n",
       "    <tr>\n",
       "      <th>mean</th>\n",
       "      <td>30172.000000</td>\n",
       "    </tr>\n",
       "    <tr>\n",
       "      <th>std</th>\n",
       "      <td>17419.667984</td>\n",
       "    </tr>\n",
       "    <tr>\n",
       "      <th>min</th>\n",
       "      <td>1.000000</td>\n",
       "    </tr>\n",
       "    <tr>\n",
       "      <th>25%</th>\n",
       "      <td>15086.500000</td>\n",
       "    </tr>\n",
       "    <tr>\n",
       "      <th>50%</th>\n",
       "      <td>30172.000000</td>\n",
       "    </tr>\n",
       "    <tr>\n",
       "      <th>75%</th>\n",
       "      <td>45257.500000</td>\n",
       "    </tr>\n",
       "    <tr>\n",
       "      <th>max</th>\n",
       "      <td>60343.000000</td>\n",
       "    </tr>\n",
       "  </tbody>\n",
       "</table>\n",
       "</div>"
      ],
      "text/plain": [
       "           ObjectId\n",
       "count  60343.000000\n",
       "mean   30172.000000\n",
       "std    17419.667984\n",
       "min        1.000000\n",
       "25%    15086.500000\n",
       "50%    30172.000000\n",
       "75%    45257.500000\n",
       "max    60343.000000"
      ]
     },
     "execution_count": 4,
     "metadata": {},
     "output_type": "execute_result"
    }
   ],
   "source": [
    "df.describe()"
   ]
  },
  {
   "cell_type": "code",
   "execution_count": 5,
   "id": "d45a7600",
   "metadata": {},
   "outputs": [
    {
     "name": "stdout",
     "output_type": "stream",
     "text": [
      "<class 'pandas.core.frame.DataFrame'>\n",
      "RangeIndex: 60343 entries, 0 to 60342\n",
      "Data columns (total 18 columns):\n",
      " #   Column         Non-Null Count  Dtype \n",
      "---  ------         --------------  ----- \n",
      " 0   kennel         60343 non-null  object\n",
      " 1   animalid       60343 non-null  object\n",
      " 2   jurisdiction   47038 non-null  object\n",
      " 3   intype         60343 non-null  object\n",
      " 4   insubtype      60216 non-null  object\n",
      " 5   indate         60343 non-null  object\n",
      " 6   surreason      47038 non-null  object\n",
      " 7   outtype        46755 non-null  object\n",
      " 8   outsubtype     37967 non-null  object\n",
      " 9   outdate        46789 non-null  object\n",
      " 10  animaltype     60343 non-null  object\n",
      " 11  sex            59318 non-null  object\n",
      " 12  bites          47053 non-null  object\n",
      " 13  petsize        57919 non-null  object\n",
      " 14  color          60342 non-null  object\n",
      " 15  breed          60267 non-null  object\n",
      " 16  sourcezipcode  50868 non-null  object\n",
      " 17  ObjectId       60343 non-null  int64 \n",
      "dtypes: int64(1), object(17)\n",
      "memory usage: 8.3+ MB\n"
     ]
    }
   ],
   "source": [
    "df.info()"
   ]
  },
  {
   "cell_type": "code",
   "execution_count": 6,
   "id": "4421d7b2",
   "metadata": {},
   "outputs": [
    {
     "data": {
      "text/plain": [
       "Index(['kennel', 'animalid', 'jurisdiction', 'intype', 'insubtype', 'indate',\n",
       "       'surreason', 'outtype', 'outsubtype', 'outdate', 'animaltype', 'sex',\n",
       "       'bites', 'petsize', 'color', 'breed', 'sourcezipcode', 'ObjectId'],\n",
       "      dtype='object')"
      ]
     },
     "execution_count": 6,
     "metadata": {},
     "output_type": "execute_result"
    }
   ],
   "source": [
    "df.columns"
   ]
  },
  {
   "cell_type": "code",
   "execution_count": 7,
   "id": "e3214143",
   "metadata": {},
   "outputs": [
    {
     "data": {
      "text/plain": [
       "(60343, 18)"
      ]
     },
     "execution_count": 7,
     "metadata": {},
     "output_type": "execute_result"
    }
   ],
   "source": [
    "df.shape"
   ]
  },
  {
   "cell_type": "code",
   "execution_count": 8,
   "id": "16b9b6ce",
   "metadata": {},
   "outputs": [
    {
     "data": {
      "text/plain": [
       "kennel           object\n",
       "animalid         object\n",
       "jurisdiction     object\n",
       "intype           object\n",
       "insubtype        object\n",
       "indate           object\n",
       "surreason        object\n",
       "outtype          object\n",
       "outsubtype       object\n",
       "outdate          object\n",
       "animaltype       object\n",
       "sex              object\n",
       "bites            object\n",
       "petsize          object\n",
       "color            object\n",
       "breed            object\n",
       "sourcezipcode    object\n",
       "ObjectId          int64\n",
       "dtype: object"
      ]
     },
     "execution_count": 8,
     "metadata": {},
     "output_type": "execute_result"
    }
   ],
   "source": [
    "df.dtypes"
   ]
  },
  {
   "cell_type": "markdown",
   "id": "f8ea2415",
   "metadata": {},
   "source": [
    "# Data Clean Up\n",
    "Rename Columns\n",
    "Check for Missing Data\n",
    "Count of Missing Data\n",
    "Drop rows missing critical info\n",
    "Check for duplicates\n",
    "Drop Duplicates\n",
    "Convert date columns to datetime format"
   ]
  },
  {
   "cell_type": "code",
   "execution_count": null,
   "id": "1ec7743f",
   "metadata": {},
   "outputs": [],
   "source": [
    "# Assign a new list of column names\n",
    "df.columns = [\"col1\", \"col2\", \"col3\"]"
   ]
  },
  {
   "cell_type": "code",
   "execution_count": null,
   "id": "1eee7fd0",
   "metadata": {},
   "outputs": [],
   "source": [
    "# check for missing data\n",
    "df.isna()"
   ]
  },
  {
   "cell_type": "code",
   "execution_count": null,
   "id": "2d847fdb",
   "metadata": {},
   "outputs": [],
   "source": [
    "# count of missing data\n",
    "df.isna().sum()"
   ]
  },
  {
   "cell_type": "code",
   "execution_count": null,
   "id": "2f58e82c",
   "metadata": {},
   "outputs": [],
   "source": [
    "# check for duplicates\n",
    "df.duplicated(keep = False)\n",
    "\n",
    "df.duplicated(keep = False).sum()"
   ]
  },
  {
   "cell_type": "code",
   "execution_count": null,
   "id": "4e7c8c9a",
   "metadata": {},
   "outputs": [],
   "source": [
    "# Convert date columns to datetime format\n",
    "df['indate'] = pd.to_datetime(df['indate'], errors='coerce')\n",
    "\n",
    "df['outdate'] = pd.to_datetime(df['outdate'], errors='coerce')\n",
    "\n",
    "print(df.indate, df.outdate)"
   ]
  },
  {
   "cell_type": "code",
   "execution_count": null,
   "id": "21b807d1",
   "metadata": {},
   "outputs": [],
   "source": [
    "# Drop rows missing critical info\n",
    "df = df.dropna(subset=['indate', 'outcome_type', 'animal_type'])"
   ]
  },
  {
   "cell_type": "markdown",
   "id": "ddaf52bc",
   "metadata": {},
   "source": [
    "# Analysis I would like to accomplish with the data\n",
    "# 1. Most common outcome type by animal type\n",
    "# 2. Adoption rates by animal type\n",
    "# 3. Monthly intake trends\n",
    "# 4. Intake types count\n",
    "# 5. Age group effect on outcomes\n",
    "# 6. Age by Outcome Type by Animal Type\n",
    "# 7. Rates of adoption by day of week\n",
    "\n",
    "\n"
   ]
  }
 ],
 "metadata": {
  "kernelspec": {
   "display_name": "Python 3",
   "language": "python",
   "name": "python3"
  },
  "language_info": {
   "codemirror_mode": {
    "name": "ipython",
    "version": 3
   },
   "file_extension": ".py",
   "mimetype": "text/x-python",
   "name": "python",
   "nbconvert_exporter": "python",
   "pygments_lexer": "ipython3",
   "version": "3.13.7"
  }
 },
 "nbformat": 4,
 "nbformat_minor": 5
}
